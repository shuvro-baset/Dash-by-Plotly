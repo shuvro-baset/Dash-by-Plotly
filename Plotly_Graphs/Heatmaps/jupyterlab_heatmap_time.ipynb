{
 "cells": [
  {
   "cell_type": "code",
   "execution_count": 6,
   "metadata": {},
   "outputs": [
    {
     "name": "stdout",
     "output_type": "stream",
     "text": [
      "Year         1946   1947   1948   1949   1950   1951   1952   1953  1954  \\\n",
      "Team                                                                       \n",
      "76ers         NaN    NaN    NaN    NaN    NaN    NaN    NaN    NaN   NaN   \n",
      "Blackhawks    NaN    NaN    NaN  0.453  0.368    NaN    NaN    NaN   NaN   \n",
      "Bobcats       NaN    NaN    NaN    NaN    NaN    NaN    NaN    NaN   NaN   \n",
      "Braves        NaN    NaN    NaN    NaN    NaN    NaN    NaN    NaN   NaN   \n",
      "Bucks         NaN    NaN    NaN    NaN    NaN    NaN    NaN    NaN   NaN   \n",
      "Bullets       NaN    NaN    NaN    NaN    NaN    NaN    NaN    NaN   NaN   \n",
      "Bulls         NaN    NaN    NaN    NaN    NaN    NaN    NaN    NaN   NaN   \n",
      "Cavaliers     NaN    NaN    NaN    NaN    NaN    NaN    NaN    NaN   NaN   \n",
      "Celtics     0.367  0.417  0.417  0.324  0.565  0.591  0.648  0.583   0.5   \n",
      "Clippers      NaN    NaN    NaN    NaN    NaN    NaN    NaN    NaN   NaN   \n",
      "\n",
      "Year         1955  ...   2007   2008   2009   2010   2011   2012   2013  \\\n",
      "Team               ...                                                    \n",
      "76ers         NaN  ...  0.488  0.500  0.329  0.500  0.530  0.415  0.232   \n",
      "Blackhawks    NaN  ...    NaN    NaN    NaN    NaN    NaN    NaN    NaN   \n",
      "Bobcats       NaN  ...  0.390  0.427  0.537  0.415  0.106  0.256  0.524   \n",
      "Braves        NaN  ...    NaN    NaN    NaN    NaN    NaN    NaN    NaN   \n",
      "Bucks         NaN  ...  0.317  0.415  0.561  0.427  0.470  0.463  0.183   \n",
      "Bullets       NaN  ...    NaN    NaN    NaN    NaN    NaN    NaN    NaN   \n",
      "Bulls         NaN  ...  0.402  0.500  0.500  0.756  0.758  0.549  0.585   \n",
      "Cavaliers     NaN  ...  0.549  0.805  0.744  0.232  0.318  0.293  0.402   \n",
      "Celtics     0.542  ...  0.805  0.756  0.610  0.683  0.591  0.506  0.305   \n",
      "Clippers      NaN  ...  0.280  0.232  0.354  0.390  0.606  0.683  0.695   \n",
      "\n",
      "Year         2014   2015   2016  \n",
      "Team                             \n",
      "76ers       0.220  0.122  0.357  \n",
      "Blackhawks    NaN    NaN    NaN  \n",
      "Bobcats       NaN    NaN    NaN  \n",
      "Braves        NaN    NaN    NaN  \n",
      "Bucks       0.500  0.402  0.465  \n",
      "Bullets       NaN    NaN    NaN  \n",
      "Bulls       0.610  0.512  0.477  \n",
      "Cavaliers   0.646  0.695  0.714  \n",
      "Celtics     0.488  0.585  0.625  \n",
      "Clippers    0.683  0.646  0.644  \n",
      "\n",
      "[10 rows x 71 columns]\n"
     ]
    }
   ],
   "source": [
    "import plotly.express as px\n",
    "import pandas as pd\n",
    "\n",
    "# Data put together by Gabe Salzer on data.world\n",
    "# Data source: http://www.landofbasketball.com/nba_teams_year_by_year.htm\n",
    "df = pd.read_csv(\"https://raw.githubusercontent.com/Coding-with-Adam/Dash-by-Plotly/master/Plotly_Graphs/Heatmaps/Historical%20NBA%20Performance.csv\")\n",
    "df = df.pivot('Team','Year','Winning Percentage')\n",
    "print(df[:10])\n",
    "\n",
    "df = df[df.index.isin(['Warriors', 'Knicks', 'Celtics', 'Bulls', '76ers'])]\n",
    "fig = px.imshow(df, color_continuous_scale=px.colors.sequential.YlOrBr,\n",
    "                title=\"NBA Season Winning Percentage\")\n",
    "fig.update_layout(title_font={'size':27}, title_x=0.5)\n",
    "fig.update_traces(hoverongaps=False,\n",
    "                  hovertemplate=\"Team: %{y}\"\n",
    "                                \"<br>Year: %{x}\"\n",
    "                                \"<br>Winning %: %{z}<extra></extra>\"\n",
    "                  )\n",
    "\n"
   ]
  },
  {
   "cell_type": "code",
   "execution_count": null,
   "metadata": {},
   "outputs": [],
   "source": []
  }
 ],
 "metadata": {
  "kernelspec": {
   "display_name": "Python 3",
   "language": "python",
   "name": "python3"
  },
  "language_info": {
   "codemirror_mode": {
    "name": "ipython",
    "version": 3
   },
   "file_extension": ".py",
   "mimetype": "text/x-python",
   "name": "python",
   "nbconvert_exporter": "python",
   "pygments_lexer": "ipython3",
   "version": "3.8.3"
  }
 },
 "nbformat": 4,
 "nbformat_minor": 4
}
